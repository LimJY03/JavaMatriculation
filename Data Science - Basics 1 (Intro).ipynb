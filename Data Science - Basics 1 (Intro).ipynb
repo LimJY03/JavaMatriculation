{
  "nbformat": 4,
  "nbformat_minor": 0,
  "metadata": {
    "colab": {
      "name": "Data Science Basics 1 (Intro).ipynb",
      "provenance": [],
      "collapsed_sections": [],
      "authorship_tag": "ABX9TyMRsNT2un+6TqYfdeDhxm4L",
      "include_colab_link": true
    },
    "kernelspec": {
      "name": "python3",
      "display_name": "Python 3"
    },
    "language_info": {
      "name": "python"
    }
  },
  "cells": [
    {
      "cell_type": "markdown",
      "metadata": {
        "id": "view-in-github",
        "colab_type": "text"
      },
      "source": [
        "<a href=\"https://colab.research.google.com/github/LimJY03/JavaMatriculation/blob/main/Data%20Science%20-%20Basics%201%20(Intro).ipynb\" target=\"_parent\"><img src=\"https://colab.research.google.com/assets/colab-badge.svg\" alt=\"Open In Colab\"/></a>"
      ]
    },
    {
      "cell_type": "markdown",
      "source": [
        "# **Python Libraries**\n",
        "Python has libraries with large collections of mathematical functions and analytical tools.\n",
        "\n",
        "In this course, we will use the following libraries:\n",
        "\n",
        "* Pandas - This library is used for structured data operations, like import CSV files, create dataframes, and data preparation\n",
        "* Numpy - This is a mathematical library. Has a powerful N-dimensional array object, linear algebra, Fourier transform, etc.\n",
        "* Matplotlib - This library is used for visualization of data.\n",
        "* SciPy - This library has linear algebra modules\n",
        "\n",
        "We will use these libraries throughout the course to create examples.\n",
        "\n"
      ],
      "metadata": {
        "id": "RVYS3xgxEXDZ"
      }
    },
    {
      "cell_type": "markdown",
      "source": [
        "# **Create a DataFrame with Pandas**\n",
        "A data frame is a structured representation of data.\n",
        "\n",
        "Let's define a data frame with 3 columns and 5 rows with fictional numbers:\n",
        "\n",
        "Example:"
      ],
      "metadata": {
        "id": "j4fGK_0AFFVk"
      }
    },
    {
      "cell_type": "code",
      "source": [
        "import pandas as pd\n",
        "\n",
        "d = {'col1': [1, 2, 3, 4, 7], 'col2': [4, 5, 6, 9, 5], 'col3': [7, 8, 12, 1, 11]}\n",
        "\n",
        "df = pd.DataFrame(data=d)\n",
        "\n",
        "print(df)"
      ],
      "metadata": {
        "id": "ps8sRu3jFHTJ",
        "colab": {
          "base_uri": "https://localhost:8080/"
        },
        "outputId": "75c61bd0-3338-44dc-88b6-c54b8b9bf1cc"
      },
      "execution_count": null,
      "outputs": [
        {
          "output_type": "stream",
          "name": "stdout",
          "text": [
            "   col1  col2  col3\n",
            "0     1     4     7\n",
            "1     2     5     8\n",
            "2     3     6    12\n",
            "3     4     9     1\n",
            "4     7     5    11\n"
          ]
        }
      ]
    },
    {
      "cell_type": "markdown",
      "source": [
        "Example Explained\n",
        "\n",
        "* Import the Pandas library as pd\n",
        "* Define data with column and rows in a variable named d\n",
        "* Create a data frame using the function pd.DataFrame()\n",
        "* The data frame contains 3 columns and 5 rows\n",
        "* Print the data frame output with the print() function\n",
        "\n",
        "We write pd. in front of DataFrame() to let Python know that we want to activate the DataFrame() function from the Pandas library.\n",
        "Be aware of the capital D and F in DataFrame!"
      ],
      "metadata": {
        "id": "EDl493XiFKnc"
      }
    },
    {
      "cell_type": "markdown",
      "source": [
        "#**Interpreting the Output**\n",
        "We see that \"col1\", \"col2\" and \"col3\" are the names of the columns.\n",
        "\n",
        "Do not be confused about the vertical numbers ranging from 0-4. They tell us the information about the position of the rows.\n",
        "\n",
        "In Python, the numbering of rows starts with zero.\n",
        "\n",
        "Now, we can use Python to count the columns and rows.\n",
        "\n",
        "We can use df.shape[1] to find the number of columns:\n",
        "\n",
        "Example:"
      ],
      "metadata": {
        "id": "yJ2_DyjpF0GU"
      }
    },
    {
      "cell_type": "code",
      "source": [
        "count_column = df.shape[1]\n",
        "print(count_column) #Count the number of columns"
      ],
      "metadata": {
        "colab": {
          "base_uri": "https://localhost:8080/"
        },
        "id": "zSqEMkbjF9oP",
        "outputId": "da9f7784-95c4-48b1-e42a-33a4898bbfd1"
      },
      "execution_count": null,
      "outputs": [
        {
          "output_type": "stream",
          "name": "stdout",
          "text": [
            "3\n"
          ]
        }
      ]
    },
    {
      "cell_type": "markdown",
      "source": [
        "We can use df.shape[0] to find the number of rows:"
      ],
      "metadata": {
        "id": "1e18O_RwGK2k"
      }
    },
    {
      "cell_type": "code",
      "source": [
        "count_row = df.shape[0]\n",
        "print(count_row) #Count the number of rows"
      ],
      "metadata": {
        "colab": {
          "base_uri": "https://localhost:8080/"
        },
        "id": "0KgH50LjGNfd",
        "outputId": "ce5af1a8-612a-48a7-b47b-1da499711b75"
      },
      "execution_count": null,
      "outputs": [
        {
          "output_type": "stream",
          "name": "stdout",
          "text": [
            "5\n"
          ]
        }
      ]
    },
    {
      "cell_type": "markdown",
      "source": [
        "If we work with larger data sets with many columns and rows, it will be confusing to count it by yourself. You risk to count it wrongly. If we use the built-in functions in Python correctly, we assure that the count is correct."
      ],
      "metadata": {
        "id": "3l3QhH7XGSeB"
      }
    },
    {
      "cell_type": "markdown",
      "source": [
        "# **Data Science Functions**\n",
        "\n",
        "Three commonly used functions when working with Data Science: max(), min(), and mean()."
      ],
      "metadata": {
        "id": "-073KXdKGg6M"
      }
    },
    {
      "cell_type": "markdown",
      "source": [
        "![image.png](data:image/png;base64,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)"
      ],
      "metadata": {
        "id": "BaMswyIxG5yh"
      }
    },
    {
      "cell_type": "markdown",
      "source": [
        "The data set above consists of 6 variables, each with 10 observations:\n",
        "\n",
        "* Duration - How long lasted the training session in minutes?\n",
        "* Average_Pulse - What was the average pulse of the training session? This is measured by beats per minute\n",
        "* Max_Pulse - What was the max pulse of the training session?\n",
        "* Calorie_Burnage - How much calories were burnt on the training session?\n",
        "* Hours_Work - How many hours did we work at our job before the training session?\n",
        "* Hours_Sleep - How much did we sleep the night before the training session?"
      ],
      "metadata": {
        "id": "Cx583b_jG-UP"
      }
    },
    {
      "cell_type": "markdown",
      "source": [
        "The Python max() function is used to find the highest value in an array."
      ],
      "metadata": {
        "id": "D0DuVedtHKeu"
      }
    },
    {
      "cell_type": "code",
      "source": [
        "Average_pulse_max = max(80, 85, 90, 95, 100, 105, 110, 115, 120, 125)\n",
        "\n",
        "print (Average_pulse_max)"
      ],
      "metadata": {
        "colab": {
          "base_uri": "https://localhost:8080/"
        },
        "id": "GoEApbSsHPTe",
        "outputId": "c459925a-bf05-48e1-a5c9-b1372d5a3891"
      },
      "execution_count": null,
      "outputs": [
        {
          "output_type": "stream",
          "name": "stdout",
          "text": [
            "125\n"
          ]
        }
      ]
    },
    {
      "cell_type": "markdown",
      "source": [
        "The Python min() function is used to find the lowest value in an array."
      ],
      "metadata": {
        "id": "ejv0-4FLHXxR"
      }
    },
    {
      "cell_type": "code",
      "source": [
        "Average_pulse_min = min(80, 85, 90, 95, 100, 105, 110, 115, 120, 125)\n",
        "\n",
        "print (Average_pulse_min)"
      ],
      "metadata": {
        "colab": {
          "base_uri": "https://localhost:8080/"
        },
        "id": "9NQ3lScnHb0h",
        "outputId": "c33860f1-b195-482a-b97c-f49b9b731a30"
      },
      "execution_count": null,
      "outputs": [
        {
          "output_type": "stream",
          "name": "stdout",
          "text": [
            "80\n"
          ]
        }
      ]
    },
    {
      "cell_type": "markdown",
      "source": [
        "The NumPy mean() function is used to find the average value of an array."
      ],
      "metadata": {
        "id": "LzqjbO2nHUUi"
      }
    },
    {
      "cell_type": "code",
      "source": [
        "import numpy as np\n",
        "\n",
        "Calorie_burnage = [240, 250, 260, 270, 280, 290, 300, 310, 320, 330]\n",
        "\n",
        "Average_calorie_burnage = np.mean(Calorie_burnage)\n",
        "\n",
        "print(Average_calorie_burnage)"
      ],
      "metadata": {
        "colab": {
          "base_uri": "https://localhost:8080/"
        },
        "id": "e8tjEEkQHgHp",
        "outputId": "a4539ae4-6c3e-499d-a5e5-85137ba9dd0e"
      },
      "execution_count": null,
      "outputs": [
        {
          "output_type": "stream",
          "name": "stdout",
          "text": [
            "285.0\n"
          ]
        }
      ]
    },
    {
      "cell_type": "markdown",
      "source": [
        "Note: We write np. in front of mean to let Python know that we want to activate the mean function from the Numpy library."
      ],
      "metadata": {
        "id": "-uZ_xIDDHned"
      }
    },
    {
      "cell_type": "markdown",
      "source": [
        "# **Extract and Read Data With Pandas**\n",
        "Before analyzing data, a Data Scientist must extract the data, and make it clean and valuable.\n",
        "\n",
        "Before data can be analyzed, it must be imported/extracted.\n",
        "\n",
        "In the example below, we show you how to import data using Pandas in Python.\n",
        "\n",
        "We use the read_csv() function to import a CSV file with the health data:"
      ],
      "metadata": {
        "id": "_ZaZE6k6OAvw"
      }
    },
    {
      "cell_type": "code",
      "source": [
        "import pandas as pd\n",
        "\n",
        "health_data = pd.read_csv(\"/content/sample_data/healthdata.csv\", header=0, sep=\",\")\n",
        "\n",
        "print(health_data) #Prints all data"
      ],
      "metadata": {
        "colab": {
          "base_uri": "https://localhost:8080/"
        },
        "id": "JZ0ZnNe7OG-c",
        "outputId": "099d16f7-e972-4bbe-af86-f719afd74b96"
      },
      "execution_count": null,
      "outputs": [
        {
          "output_type": "stream",
          "name": "stdout",
          "text": [
            "   Duration  Average_Pulse  Max_Pulse  Calorie_Burnage  Hours_Work  \\\n",
            "0        30             80        120              240          10   \n",
            "1        45             85        120              250          10   \n",
            "2        45             90        130              260           8   \n",
            "3        60             95        130              270           8   \n",
            "4        60            100        140              280           0   \n",
            "5        60            105        140              290           7   \n",
            "6        60            110        145              300           7   \n",
            "7        45            115        145              310           8   \n",
            "8        60            120        150              320           0   \n",
            "9        45            125        150              330           8   \n",
            "\n",
            "   Hours_Sleep  \n",
            "0            7  \n",
            "1            7  \n",
            "2            7  \n",
            "3            7  \n",
            "4            7  \n",
            "5            8  \n",
            "6            8  \n",
            "7            8  \n",
            "8            8  \n",
            "9            8  \n"
          ]
        }
      ]
    },
    {
      "cell_type": "markdown",
      "source": [
        "Example Explained\n",
        "\n",
        "* Import the Pandas library\n",
        "* Name the data frame as health_data.\n",
        "* header=0 means that the headers for the variable names are to be found in the first row (note that 0 means the first row in Python)\n",
        "* sep=\",\" means that \",\" is used as the separator between the values. This is because we are using the file type .csv (comma separated values)\n",
        "\n",
        "Tip: If you have a large CSV file, you can use the head() function to only show the top 5 rows:"
      ],
      "metadata": {
        "id": "zIpuJWUbQbau"
      }
    },
    {
      "cell_type": "code",
      "source": [
        "print(health_data.head()) #Prints only the top 5 rows of data"
      ],
      "metadata": {
        "colab": {
          "base_uri": "https://localhost:8080/"
        },
        "id": "UKk0bw9HQpRi",
        "outputId": "9069f946-f23d-4833-f105-64596db6f43d"
      },
      "execution_count": null,
      "outputs": [
        {
          "output_type": "stream",
          "name": "stdout",
          "text": [
            "   Duration Average_Pulse Max_Pulse  Calorie_Burnage  Hours_Work  Hours_Sleep\n",
            "0      30.0            80       120            240.0        10.0          7.0\n",
            "1      45.0            85       120            250.0        10.0          7.0\n",
            "2      45.0            90       130            260.0         8.0          7.0\n",
            "3      60.0            95       130            270.0         8.0          7.0\n",
            "4      60.0           100       140            280.0         0.0          7.0\n"
          ]
        }
      ]
    },
    {
      "cell_type": "markdown",
      "source": [
        "# **Data Cleaning**\n",
        "Look at the imported data. As you can see, the data are \"dirty\" with wrongly or unregistered values:\n"
      ],
      "metadata": {
        "id": "JWKmNevyRPnD"
      }
    },
    {
      "cell_type": "markdown",
      "source": [
        "![image.png](data:image/png;base64,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)"
      ],
      "metadata": {
        "id": "9LE_6-1YRcpT"
      }
    },
    {
      "cell_type": "markdown",
      "source": [
        "\n",
        "There are some blank fields\n",
        "* Average pulse of 9 000 is not possible\n",
        "* 9 000 will be treated as non-numeric, because of the space separator\n",
        "* One observation of max pulse is denoted as \"AF\", which does not make sense\n",
        "\n",
        "So, we must clean the data in order to perform the analysis."
      ],
      "metadata": {
        "id": "MUMbg2uMRb8R"
      }
    },
    {
      "cell_type": "markdown",
      "source": [
        "# **Remove Blank Rows**\n",
        "We see that the non-numeric values (9 000 and AF) are in the same rows with missing values.\n",
        "\n",
        "Solution: We can remove the rows with missing observations to fix this problem.\n",
        "\n",
        "When we load a data set using Pandas, all blank cells are automatically converted into \"NaN\" values.\n",
        "\n",
        "> NaN refers to Not a Number\n",
        "\n",
        "So, removing the NaN cells gives us a clean data set that can be analyzed.\n",
        "\n",
        "We can use the dropna() function to remove the NaNs. axis=0 means that we want to remove all rows that have a NaN value:\n",
        "\n",
        "Example:"
      ],
      "metadata": {
        "id": "Y4Hj9r3KRjRD"
      }
    },
    {
      "cell_type": "code",
      "source": [
        "health_data.dropna(axis=0,inplace=True)\n",
        "\n",
        "print(health_data)"
      ],
      "metadata": {
        "colab": {
          "base_uri": "https://localhost:8080/"
        },
        "id": "FUj5jy5wRplt",
        "outputId": "4700ce6f-ff68-4da8-ec7a-12e0394ee2c6"
      },
      "execution_count": null,
      "outputs": [
        {
          "output_type": "stream",
          "name": "stdout",
          "text": [
            "    Duration Average_Pulse Max_Pulse  Calorie_Burnage  Hours_Work  Hours_Sleep\n",
            "0       30.0            80       120            240.0        10.0          7.0\n",
            "1       45.0            85       120            250.0        10.0          7.0\n",
            "2       45.0            90       130            260.0         8.0          7.0\n",
            "3       60.0            95       130            270.0         8.0          7.0\n",
            "4       60.0           100       140            280.0         0.0          7.0\n",
            "6       60.0           105       140            290.0         7.0          8.0\n",
            "7       60.0           110       145            300.0         7.0          8.0\n",
            "9       45.0           115       145            310.0         8.0          8.0\n",
            "10      60.0           120       150            320.0         0.0          8.0\n",
            "12      45.0           125       150            330.0         8.0          8.0\n"
          ]
        }
      ]
    },
    {
      "cell_type": "markdown",
      "source": [
        "# **Data Categories**\n",
        "To analyze data, we also need to know the types of data we are dealing with.\n",
        "\n",
        "Data can be split into three main categories:\n",
        "\n",
        "1. Numerical - Contains numerical values. Can be divided into two categories:\n",
        "  * Discrete: Numbers are counted as \"whole\". Example: You cannot have trained 2.5 sessions, it is either 2 or 3\n",
        "  * Continuous: Numbers can be of infinite precision. For example, you can sleep for 7 hours, 30 minutes and 20 seconds, or 7.533 hours\n",
        "2. Categorical - Contains values that cannot be measured up against each other. Example: A color or a type of training\n",
        "3. Ordinal - Contains categorical data that can be measured up against each other. Example: School grades where A is better than B and so on\n",
        "By knowing the type of your data, you will be able to know what technique to use when analyzing them."
      ],
      "metadata": {
        "id": "4bvcwab6SKKF"
      }
    },
    {
      "cell_type": "markdown",
      "source": [
        "# **Data Types**\n",
        "We can use the info() function to list the data types within our data set: "
      ],
      "metadata": {
        "id": "A_IHWFBjScox"
      }
    },
    {
      "cell_type": "code",
      "source": [
        "print(health_data.info())"
      ],
      "metadata": {
        "colab": {
          "base_uri": "https://localhost:8080/"
        },
        "id": "Hx4y5yghSmFr",
        "outputId": "57ab12d4-04f9-46f3-c6f6-b4c966b2ef17"
      },
      "execution_count": null,
      "outputs": [
        {
          "output_type": "stream",
          "name": "stdout",
          "text": [
            "<class 'pandas.core.frame.DataFrame'>\n",
            "Int64Index: 10 entries, 0 to 12\n",
            "Data columns (total 6 columns):\n",
            " #   Column           Non-Null Count  Dtype  \n",
            "---  ------           --------------  -----  \n",
            " 0   Duration         10 non-null     float64\n",
            " 1   Average_Pulse    10 non-null     object \n",
            " 2   Max_Pulse        10 non-null     object \n",
            " 3   Calorie_Burnage  10 non-null     float64\n",
            " 4   Hours_Work       10 non-null     float64\n",
            " 5   Hours_Sleep      10 non-null     float64\n",
            "dtypes: float64(4), object(2)\n",
            "memory usage: 560.0+ bytes\n",
            "None\n"
          ]
        }
      ]
    },
    {
      "cell_type": "markdown",
      "source": [
        "We see that this data set has two different types of data:\n",
        "\n",
        "* Float64\n",
        "* Object\n",
        "\n",
        "We cannot use objects to calculate and perform analysis here. We must convert the type object to float64 (float64 is a number with a decimal in Python).\n",
        "\n",
        "We can use the astype() function to convert the data into float64.\n",
        "\n",
        "The following example converts \"Average_Pulse\" and \"Max_Pulse\" into data type float64 (the other variables are already of data type float64):"
      ],
      "metadata": {
        "id": "9ablLWcQSs8N"
      }
    },
    {
      "cell_type": "code",
      "source": [
        "health_data[\"Average_Pulse\"] = health_data['Average_Pulse'].astype(float) #Convert type from object to float\n",
        "health_data[\"Max_Pulse\"] = health_data[\"Max_Pulse\"].astype(float)         #Convert type from object to float\n",
        "\n",
        "print (health_data.info())"
      ],
      "metadata": {
        "colab": {
          "base_uri": "https://localhost:8080/"
        },
        "id": "KQWHX-T1S0MO",
        "outputId": "bb8ef99d-1721-4302-80e7-2c5a8a9bf63c"
      },
      "execution_count": null,
      "outputs": [
        {
          "output_type": "stream",
          "name": "stdout",
          "text": [
            "<class 'pandas.core.frame.DataFrame'>\n",
            "Int64Index: 10 entries, 0 to 12\n",
            "Data columns (total 6 columns):\n",
            " #   Column           Non-Null Count  Dtype  \n",
            "---  ------           --------------  -----  \n",
            " 0   Duration         10 non-null     float64\n",
            " 1   Average_Pulse    10 non-null     float64\n",
            " 2   Max_Pulse        10 non-null     float64\n",
            " 3   Calorie_Burnage  10 non-null     float64\n",
            " 4   Hours_Work       10 non-null     float64\n",
            " 5   Hours_Sleep      10 non-null     float64\n",
            "dtypes: float64(6)\n",
            "memory usage: 560.0 bytes\n",
            "None\n"
          ]
        }
      ]
    },
    {
      "cell_type": "markdown",
      "source": [
        "Now, the data set has only float64 data types."
      ],
      "metadata": {
        "id": "B2LRfxhWTCO8"
      }
    },
    {
      "cell_type": "markdown",
      "source": [
        "# **Analyze the Data**\n",
        "When we have cleaned the data set, we can start analyzing the data.\n",
        "\n",
        "We can use the describe() function in Python to summarize data:"
      ],
      "metadata": {
        "id": "dnOeE4MwTGgv"
      }
    },
    {
      "cell_type": "code",
      "source": [
        "print(health_data.describe())"
      ],
      "metadata": {
        "id": "kO3IckUuTI_a"
      },
      "execution_count": null,
      "outputs": []
    },
    {
      "cell_type": "markdown",
      "source": [
        "![image.png](data:image/png;base64,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)"
      ],
      "metadata": {
        "id": "gUn5kLQYTcXB"
      }
    },
    {
      "cell_type": "markdown",
      "source": [
        "* Count - Counts the number of observations\n",
        "* Mean - The average value\n",
        "* Std - Standard deviation (explained in the statistics chapter)\n",
        "* Min - The lowest value\n",
        "* 25%, 50% and 75% are percentiles (explained in the statistics chapter)\n",
        "* Max - The highest value"
      ],
      "metadata": {
        "id": "SsrGbrumTS0Y"
      }
    }
  ]
}